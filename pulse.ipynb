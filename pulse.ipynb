{
 "cells": [
  {
   "cell_type": "raw",
   "id": "13cf44f3-a71f-4e8a-9c61-9a4eb1f7e3ca",
   "metadata": {},
   "source": [
    "---\n",
    "title: \"Seattle Pulse\"\n",
    "column: screen\n",
    "out-width: 100%\n",
    "---"
   ]
  },
  {
   "cell_type": "code",
   "execution_count": 14,
   "id": "6a4cb640-5bd0-4f5b-b057-a25f4663f4cd",
   "metadata": {},
   "outputs": [],
   "source": [
    "#| echo: false\n",
    "import pandas as pd\n",
    "import plotly.io as pio\n",
    "pio.renderers.default = \"iframe\"\n",
    "import plotly.express as px\n",
    "regions = [\"Seattle, WA\", \"United States\", \"San Francisco, CA\"]\n",
    "\n",
    "def grab_data(data_code, regions):\n",
    "  args = {\n",
    "      \"filepath_or_buffer\" : f\"https://files.zillowstatic.com/research/public_csvs/{data_code}.csv\",\n",
    "      \"index_col\" : [0,1,2,3,4],\n",
    "   }\n",
    "  dat = pd.read_csv(**args)\n",
    "  dat = dat.melt(ignore_index=False, var_name=\"date\").reset_index()\n",
    "  dat[\"date\"] = pd.to_datetime(dat[\"date\"])\n",
    "  dat = dat[dat[\"RegionName\"].isin(regions)]\n",
    "  return dat\n",
    "    \n",
    "def plotly_code(data_code, title, regions): \n",
    "  dat = grab_data(data_code, regions)\n",
    "  fig = px.line(dat, y=\"value\", color=\"RegionName\", x=\"date\", title=title)\n",
    "  fig.show();"
   ]
  },
  {
   "cell_type": "code",
   "execution_count": null,
   "id": "35552bc9-f933-4e3f-841d-a2987b1d037d",
   "metadata": {},
   "outputs": [],
   "source": []
  },
  {
   "cell_type": "markdown",
   "id": "a6b3bf8d-999a-4044-ac8c-11ae1f26f5ea",
   "metadata": {},
   "source": [
    "## Seattle Housing Inventory\n",
    "The following shows the total home inventory available in the Seattle Metro region over the last few years."
   ]
  },
  {
   "cell_type": "code",
   "execution_count": 12,
   "id": "8b2ffa12-a809-469f-869c-791473a878cf",
   "metadata": {},
   "outputs": [
    {
     "data": {
      "text/html": [
       "<iframe\n",
       "    scrolling=\"no\"\n",
       "    width=\"100%\"\n",
       "    height=\"545px\"\n",
       "    src=\"iframe_figures/figure_12.html\"\n",
       "    frameborder=\"0\"\n",
       "    allowfullscreen\n",
       "></iframe>\n"
      ]
     },
     "metadata": {},
     "output_type": "display_data"
    }
   ],
   "source": [
    "#| title: Seattle Inventory\n",
    "#| echo: false\n",
    "\n",
    "data_code = \"invt_fs/Metro_invt_fs_uc_sfrcondo_sm_month\"\n",
    "labels = {\n",
    "    data_code : \"Total Inventory\"\n",
    "}\n",
    "plotly_code(data_code, \"Housing Inventory\", [\"Seattle, WA\", \"San Francisco, CA\", \"Portland, OR\"] )\n"
   ]
  },
  {
   "cell_type": "markdown",
   "id": "27314dec-eb2e-4c5d-8957-d0589da2f43f",
   "metadata": {},
   "source": [
    "## Days on Market\n",
    "The following shows the average days on market in the Seattle Metro region over the last few years."
   ]
  },
  {
   "cell_type": "code",
   "execution_count": 13,
   "id": "f8b973aa-a51e-4cf6-a054-22a24c54bdc0",
   "metadata": {},
   "outputs": [
    {
     "data": {
      "text/html": [
       "<iframe\n",
       "    scrolling=\"no\"\n",
       "    width=\"100%\"\n",
       "    height=\"545px\"\n",
       "    src=\"iframe_figures/figure_13.html\"\n",
       "    frameborder=\"0\"\n",
       "    allowfullscreen\n",
       "></iframe>\n"
      ]
     },
     "metadata": {},
     "output_type": "display_data"
    }
   ],
   "source": [
    "#| title: Seattle Days on Market \n",
    "#| echo: false\n",
    "#| fig-height: 20px\n",
    "data_code = \"mean_doz_pending/Metro_mean_doz_pending_uc_sfrcondo_sm_month\"\n",
    "\n",
    "plotly_code(data_code, \"Average Days on Market\", [\"Seattle, WA\", \"San Francisco, CA\", \"Portland, OR\", \"United States\"])"
   ]
  },
  {
   "cell_type": "code",
   "execution_count": null,
   "id": "68377ed7-f82a-4beb-9e42-3035c4a79f40",
   "metadata": {},
   "outputs": [],
   "source": []
  },
  {
   "cell_type": "code",
   "execution_count": null,
   "id": "190cc6bd-2fd6-4c22-9356-c038d89c75f4",
   "metadata": {},
   "outputs": [],
   "source": []
  }
 ],
 "metadata": {
  "kernelspec": {
   "display_name": "Python 3 (ipykernel)",
   "language": "python",
   "name": "python3"
  },
  "language_info": {
   "codemirror_mode": {
    "name": "ipython",
    "version": 3
   },
   "file_extension": ".py",
   "mimetype": "text/x-python",
   "name": "python",
   "nbconvert_exporter": "python",
   "pygments_lexer": "ipython3",
   "version": "3.12.3"
  }
 },
 "nbformat": 4,
 "nbformat_minor": 5
}
